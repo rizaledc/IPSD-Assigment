{
 "cells": [
  {
   "cell_type": "code",
   "execution_count": 6,
   "id": "fbf7b139-6cce-4d6b-a038-340adf22d776",
   "metadata": {},
   "outputs": [
    {
     "name": "stdout",
     "output_type": "stream",
     "text": [
      "1 \n",
      "2 3 \n",
      "5 7 11 \n",
      "13 17 19 23 \n"
     ]
    }
   ],
   "source": [
    "#Soal 1\n",
    "\n",
    "#Mendefinisikan fungsi untuk memeriksa bilangan prima\n",
    "\n",
    "def  prime(num):\n",
    "    if num < 2:\n",
    "        return False #bilangan prima tidak ada yang lebih kecil dari 2\n",
    "    for i in range(2, int(num ** 0.5) + 1):\n",
    "        if num % i == 0:\n",
    "            return False\n",
    "    return True\n",
    "\n",
    "def  make_prime(n):\n",
    "    prime_list = [1]\n",
    "    num = 2\n",
    "    while len(prime_list) < n:\n",
    "        if prime(num):\n",
    "            prime_list.append(num)\n",
    "        num += 1\n",
    "    return prime_list\n",
    "\n",
    "def  pattern(rows):\n",
    "    prime_count = sum(range(1, rows+1)) #menjumlahkan bilangan prima\n",
    "    primes = make_prime(prime_count)\n",
    "    \n",
    "    index = 0\n",
    "    for i in range(1, rows + 1):\n",
    "        for j in range(i):\n",
    "            print(primes[index], end= ' ')\n",
    "            index += 1\n",
    "        print()\n",
    "        \n",
    "rows = 4\n",
    "pattern(rows)"
   ]
  },
  {
   "cell_type": "code",
   "execution_count": 5,
   "id": "34f0e6db-f9ac-4df5-bc3d-ce01be1ff52e",
   "metadata": {},
   "outputs": [
    {
     "name": "stdin",
     "output_type": "stream",
     "text": [
      "Input the first list (separate with commas) 50,50,25,26,24\n",
      "Input the second list (separate with commas) 47,45,48,49\n"
     ]
    },
    {
     "name": "stdout",
     "output_type": "stream",
     "text": [
      "Result after merger:  [50, 49, 45, 26]\n"
     ]
    }
   ],
   "source": [
    "#Soal 2\n",
    "\n",
    "def  index_odd(list1, list2):\n",
    "    list1_odd = [list1[i] for i in range(1, len(list1), 2)]\n",
    "    list2_odd = [list2[i] for i in range(1, len(list2), 2)]\n",
    "    \n",
    "    combination = list1_odd + list2_odd\n",
    "    combination.sort(reverse=True)\n",
    "    \n",
    "    return combination\n",
    "\n",
    "input1 = input(\"Input the first list (separate with commas)\")\n",
    "input2 = input(\"Input the second list (separate with commas)\")\n",
    "\n",
    "list1 = [int(x) for x in input1.split(',') if x.strip()]\n",
    "list2 = [int(x) for x in input2.split(',') if x.strip()]\n",
    "\n",
    "result = index_odd(list1,list2)\n",
    "print(\"Result after merger: \",result)"
   ]
  },
  {
   "cell_type": "code",
   "execution_count": 1,
   "id": "16f5bb6d-fef2-47d9-a1c7-4ec01abf9992",
   "metadata": {},
   "outputs": [
    {
     "name": "stdout",
     "output_type": "stream",
     "text": [
      "\n",
      "=== Selamat Datang di ATM ===\n",
      "ATM ini hanya menyediakan uang selembaran Rp.50.000,00\n",
      "1. Buat Akun Tabungan\n",
      "2. Masuk ke Akun Tabungan\n",
      "3. Keluar\n"
     ]
    },
    {
     "name": "stdin",
     "output_type": "stream",
     "text": [
      "Masukkan pilihan (1-3):  1\n"
     ]
    },
    {
     "name": "stdout",
     "output_type": "stream",
     "text": [
      "== Buat Akun Tabungan ==\n"
     ]
    },
    {
     "name": "stdin",
     "output_type": "stream",
     "text": [
      "Masukkan ID (kombinasi huruf dan angka):  rizal123\n",
      "Buat PIN (4 angka):  1234\n",
      "Masukkan saldo awal (dalam rupiah):  5000000\n"
     ]
    },
    {
     "name": "stdout",
     "output_type": "stream",
     "text": [
      "Akun dengan ID rizal123 berhasil dibuat!\n",
      "\n",
      "=== Selamat Datang di ATM ===\n",
      "ATM ini hanya menyediakan uang selembaran Rp.50.000,00\n",
      "1. Buat Akun Tabungan\n",
      "2. Masuk ke Akun Tabungan\n",
      "3. Keluar\n"
     ]
    },
    {
     "name": "stdin",
     "output_type": "stream",
     "text": [
      "Masukkan pilihan (1-3):  2\n"
     ]
    },
    {
     "name": "stdout",
     "output_type": "stream",
     "text": [
      "== Masuk Akun Tabungan ==\n"
     ]
    },
    {
     "name": "stdin",
     "output_type": "stream",
     "text": [
      "Masukkan ID:  rizal123\n",
      "Masukkan PIN:  1234\n"
     ]
    },
    {
     "name": "stdout",
     "output_type": "stream",
     "text": [
      "Login berhasil!\n",
      "\n",
      "== Menu Akun Tabungan ==\n",
      "1. Setor Tunai\n",
      "2. Tarik Tunai\n",
      "3. Lihat Saldo\n",
      "4. Kembali ke Menu Utama\n"
     ]
    },
    {
     "name": "stdin",
     "output_type": "stream",
     "text": [
      "Masukkan pilihan (1-3):  3\n"
     ]
    },
    {
     "name": "stdout",
     "output_type": "stream",
     "text": [
      "Saldo Anda saat ini: Rp5000000\n",
      "\n",
      "== Menu Akun Tabungan ==\n",
      "1. Setor Tunai\n",
      "2. Tarik Tunai\n",
      "3. Lihat Saldo\n",
      "4. Kembali ke Menu Utama\n"
     ]
    },
    {
     "name": "stdin",
     "output_type": "stream",
     "text": [
      "Masukkan pilihan (1-3):  1\n"
     ]
    },
    {
     "name": "stdout",
     "output_type": "stream",
     "text": [
      "== Setor Tunai ==\n"
     ]
    },
    {
     "name": "stdin",
     "output_type": "stream",
     "text": [
      "Masukkan jumlah setor (kelipatan Rp 50.000):  1000000\n"
     ]
    },
    {
     "name": "stdout",
     "output_type": "stream",
     "text": [
      "Setoran berhasil. Saldo akhir: Rp6000000\n",
      "\n",
      "== Menu Akun Tabungan ==\n",
      "1. Setor Tunai\n",
      "2. Tarik Tunai\n",
      "3. Lihat Saldo\n",
      "4. Kembali ke Menu Utama\n"
     ]
    },
    {
     "name": "stdin",
     "output_type": "stream",
     "text": [
      "Masukkan pilihan (1-3):  2\n"
     ]
    },
    {
     "name": "stdout",
     "output_type": "stream",
     "text": [
      "== Tarik Tunai ==\n",
      "Pilih jumlah penarikan:\n",
      "1. Rp 500.000\n",
      "2. Rp 1.000.000\n",
      "3. Rp 2.000.000\n",
      "4. Jumlah lain\n"
     ]
    },
    {
     "name": "stdin",
     "output_type": "stream",
     "text": [
      "Masukkan pilihan (1-4):  5000000\n"
     ]
    },
    {
     "name": "stdout",
     "output_type": "stream",
     "text": [
      "Pilihan tidak valid!\n",
      "\n",
      "== Menu Akun Tabungan ==\n",
      "1. Setor Tunai\n",
      "2. Tarik Tunai\n",
      "3. Lihat Saldo\n",
      "4. Kembali ke Menu Utama\n"
     ]
    },
    {
     "name": "stdin",
     "output_type": "stream",
     "text": [
      "Masukkan pilihan (1-3):  4\n"
     ]
    },
    {
     "name": "stdout",
     "output_type": "stream",
     "text": [
      "\n",
      "=== Selamat Datang di ATM ===\n",
      "ATM ini hanya menyediakan uang selembaran Rp.50.000,00\n",
      "1. Buat Akun Tabungan\n",
      "2. Masuk ke Akun Tabungan\n",
      "3. Keluar\n"
     ]
    },
    {
     "name": "stdin",
     "output_type": "stream",
     "text": [
      "Masukkan pilihan (1-3):  5000000\n"
     ]
    },
    {
     "name": "stdout",
     "output_type": "stream",
     "text": [
      "Pilihan tidak valid!\n",
      "\n",
      "=== Selamat Datang di ATM ===\n",
      "ATM ini hanya menyediakan uang selembaran Rp.50.000,00\n",
      "1. Buat Akun Tabungan\n",
      "2. Masuk ke Akun Tabungan\n",
      "3. Keluar\n"
     ]
    },
    {
     "name": "stdin",
     "output_type": "stream",
     "text": [
      "Masukkan pilihan (1-3):  3\n"
     ]
    },
    {
     "name": "stdout",
     "output_type": "stream",
     "text": [
      "Terima kasih telah menggunakan ATM kami!\n"
     ]
    }
   ],
   "source": [
    "#Soal 3\n",
    "\n",
    "# Simulasi ATM dengan tabungan dan menu\n",
    "import os\n",
    "\n",
    "def clear_screen():\n",
    "    os.system('cls' if os.name == 'nt' else 'clear')\n",
    "    \n",
    "def lihat_saldo(id_user):\n",
    "    print(f\"Saldo Anda saat ini: Rp{users[id_user][1]}\")\n",
    "\n",
    "users = {}  # Penyimpanan data pengguna berupa dictionary {ID: [PIN, saldo]}\n",
    "\n",
    "def buat_akun():\n",
    "    print(\"== Buat Akun Tabungan ==\")\n",
    "    while True:\n",
    "        id_user = input(\"Masukkan ID (kombinasi huruf dan angka): \")\n",
    "        if id_user in users:\n",
    "            print(\"ID telah digunakan, gunakan ID lainnya!\")\n",
    "        elif len(id_user) < 6:\n",
    "            print(\"ID minimal terdiri dari 6 karakter!\")\n",
    "        else:\n",
    "            break\n",
    "    while True:\n",
    "        pin = input(\"Buat PIN (4 angka): \")\n",
    "        if len(pin) == 4 and pin.isdigit():\n",
    "            break\n",
    "        else:\n",
    "            print(\"PIN harus terdiri dari 4 angka!\")\n",
    "    \n",
    "    saldo_awal = int(input(\"Masukkan saldo awal (dalam rupiah): \"))\n",
    "    users[id_user] = [pin, saldo_awal]\n",
    "    print(f\"Akun dengan ID {id_user} berhasil dibuat!\")\n",
    "\n",
    "def masuk_akun():\n",
    "    print(\"== Masuk Akun Tabungan ==\")\n",
    "    attempts = 0\n",
    "    while attempts < 3:\n",
    "        id_user = input(\"Masukkan ID: \")\n",
    "        pin = input(\"Masukkan PIN: \")\n",
    "        if id_user in users and users[id_user][0] == pin:\n",
    "            print(\"Login berhasil!\")\n",
    "            return id_user\n",
    "        else:\n",
    "            attempts += 1\n",
    "            print(f\"ID atau PIN salah. Percobaan {attempts} dari 3.\")\n",
    "    \n",
    "    print(\"Anda telah salah memasukkan ID atau PIN 3 kali.\")\n",
    "    return None\n",
    "\n",
    "def setor_tunai(id_user):\n",
    "    print(\"== Setor Tunai ==\")\n",
    "    setor = int(input(\"Masukkan jumlah setor (kelipatan Rp 50.000): \"))\n",
    "    if setor % 50000 == 0:\n",
    "        users[id_user][1] += setor\n",
    "        print(f\"Setoran berhasil. Saldo akhir: Rp{users[id_user][1]}\")\n",
    "    else:\n",
    "        print(\"Setoran harus kelipatan Rp 50.000!\")\n",
    "\n",
    "def tarik_tunai(id_user):\n",
    "    print(\"== Tarik Tunai ==\")\n",
    "    print(\"Pilih jumlah penarikan:\")\n",
    "    print(\"1. Rp 500.000\")\n",
    "    print(\"2. Rp 1.000.000\")\n",
    "    print(\"3. Rp 2.000.000\")\n",
    "    print(\"4. Jumlah lain\")\n",
    "    \n",
    "    pilihan = input(\"Masukkan pilihan (1-4): \")\n",
    "    \n",
    "    if pilihan == \"1\":\n",
    "        tarik = 500000\n",
    "    elif pilihan == \"2\":\n",
    "        tarik = 1000000\n",
    "    elif pilihan == \"3\":\n",
    "        tarik = 2000000\n",
    "    elif pilihan == \"4\":\n",
    "        tarik = int(input(\"Masukkan jumlah penarikan: \"))\n",
    "    else:\n",
    "        print(\"Pilihan tidak valid!\")\n",
    "        return\n",
    "    \n",
    "    if tarik % 50000 != 0:\n",
    "        print(\"Penarikan harus kelipatan Rp 50.000!\")\n",
    "        return\n",
    "    \n",
    "    if users[id_user][1] >= tarik:\n",
    "        users[id_user][1] -= tarik\n",
    "        print(f\"Penarikan berhasil. Saldo akhir: Rp{users[id_user][1]}\")\n",
    "    else:\n",
    "        print(\"Maaf saldo Anda tidak mencukupi.\")\n",
    "\n",
    "def menu_utama():\n",
    "    while True:\n",
    "        clear_screen()  # Membersihkan layar\n",
    "        print(\"\\n=== Selamat Datang di ATM ===\")\n",
    "        print(\"ATM ini hanya menyediakan uang selembaran Rp.50.000,00\")\n",
    "        print(\"1. Buat Akun Tabungan\")\n",
    "        print(\"2. Masuk ke Akun Tabungan\")\n",
    "        print(\"3. Keluar\")\n",
    "        \n",
    "        pilihan = input(\"Masukkan pilihan (1-3): \")\n",
    "        \n",
    "        if pilihan == \"1\":\n",
    "            clear_screen()  # Membersihkan layar\n",
    "            buat_akun()\n",
    "        elif pilihan == \"2\":\n",
    "            clear_screen()  # Membersihkan layar\n",
    "            id_user = masuk_akun()\n",
    "            if id_user:\n",
    "                while True:\n",
    "                    clear_screen()  # Membersihkan layar\n",
    "                    print(\"\\n== Menu Akun Tabungan ==\")\n",
    "                    print(\"1. Setor Tunai\")\n",
    "                    print(\"2. Tarik Tunai\")\n",
    "                    print(\"3. Lihat Saldo\")\n",
    "                    print(\"4. Kembali ke Menu Utama\")\n",
    "                    \n",
    "                    sub_pilihan = input(\"Masukkan pilihan (1-3): \")\n",
    "                    \n",
    "                    if sub_pilihan == \"1\":\n",
    "                        setor_tunai(id_user)\n",
    "                    elif sub_pilihan == \"2\":\n",
    "                        tarik_tunai(id_user)\n",
    "                    elif sub_pilihan == \"3\":\n",
    "                        lihat_saldo(id_user)\n",
    "                    elif sub_pilihan == \"4\":\n",
    "                        break\n",
    "                    else:\n",
    "                        print(\"Pilihan tidak valid!\")\n",
    "        elif pilihan == \"3\":\n",
    "            print(\"Terima kasih telah menggunakan ATM kami!\")\n",
    "            break\n",
    "        else:\n",
    "            print(\"Pilihan tidak valid!\")\n",
    "\n",
    "# Menjalankan program\n",
    "menu_utama()"
   ]
  },
  {
   "cell_type": "code",
   "execution_count": 31,
   "id": "873ce338-73c1-44d0-8b02-4f9d94d22a1c",
   "metadata": {},
   "outputs": [
    {
     "name": "stdout",
     "output_type": "stream",
     "text": [
      "Rata-rata nilai mahasiswa:\n",
      "   Nama Siswa  Nilai\n",
      "0     Siswa_1     59\n",
      "1     Siswa_2     79\n",
      "2     Siswa_3     61\n",
      "3     Siswa_4     74\n",
      "4     Siswa_5     50\n",
      "..        ...    ...\n",
      "95   Siswa_96     59\n",
      "96   Siswa_97     57\n",
      "97   Siswa_98     70\n",
      "98   Siswa_99     66\n",
      "99  Siswa_100     78\n",
      "\n",
      "[100 rows x 2 columns]\n",
      "\n",
      "Mahasiswa dengan nilai tertinggi:\n",
      "Nama Siswa    Siswa_7\n",
      "AVG             100.0\n",
      "Name: 6, dtype: object\n",
      "\n",
      "Mahasiswa dengan nilai terendah:\n",
      "Nama Siswa    Siswa_5\n",
      "AVG              50.0\n",
      "Name: 4, dtype: object\n",
      "\n",
      "Rata-rata nilai seluruh mahasiswa: 72.00\n"
     ]
    }
   ],
   "source": [
    "#Soal 4\n",
    "\n",
    "import pandas as pd\n",
    "\n",
    "def read_csv(file):\n",
    "    df = pd.read_csv(file)\n",
    "    return df\n",
    "\n",
    "def count_avg(df):\n",
    "    df['AVG'] = df.iloc[:, 1:].mean(axis=1)\n",
    "    return df\n",
    "\n",
    "def min_max(df):\n",
    "    max_grade = df.loc[df['AVG'].idxmax()]\n",
    "    min_grade = df.loc[df['AVG'].idxmin()]\n",
    "    return max_grade, min_grade\n",
    "\n",
    "def AVG_all(df):\n",
    "    overall_avg = df['AVG'].mean()\n",
    "    return overall_avg\n",
    "\n",
    "file = 'siswa_nilai.csv'\n",
    "df = read_csv(file)\n",
    "df_AVG = count_avg(df)\n",
    "max_grade, min_grade = min_max(df_AVG)\n",
    "overall_AVG = AVG_all(df_AVG)\n",
    "\n",
    "print(\"Rata-rata nilai mahasiswa:\")\n",
    "print(df_AVG[['Nama Siswa', 'Nilai']])\n",
    "\n",
    "print(\"\\nMahasiswa dengan nilai tertinggi:\")\n",
    "print(max_grade[['Nama Siswa', 'AVG']])\n",
    "\n",
    "print(\"\\nMahasiswa dengan nilai terendah:\")\n",
    "print(min_grade[['Nama Siswa', 'AVG']])\n",
    "\n",
    "# Tampilkan rata-rata nilai seluruh mahasiswa\n",
    "print(f\"\\nRata-rata nilai seluruh mahasiswa: {overall_AVG:.2f}\")"
   ]
  },
  {
   "cell_type": "code",
   "execution_count": 15,
   "id": "ab137337-aa20-40cf-8aa5-a46ebb9853f1",
   "metadata": {},
   "outputs": [
    {
     "name": "stdout",
     "output_type": "stream",
     "text": [
      "Selamat datang di permainan tebak angka!\n",
      "Komputer telah memilih angka antara 1 hingga 100.\n",
      "Anda memiliki 5 kali percobaan untuk menebak angka tersebut.\n",
      "\n",
      "Indikator: 1-100\n"
     ]
    },
    {
     "name": "stdin",
     "output_type": "stream",
     "text": [
      "Percobaan 1: Masukkan tebakan Anda:  50\n"
     ]
    },
    {
     "name": "stdout",
     "output_type": "stream",
     "text": [
      "Jawaban berada di atas angka 50.\n",
      "\n",
      "Indikator: 51-100\n"
     ]
    },
    {
     "name": "stdin",
     "output_type": "stream",
     "text": [
      "Percobaan 2: Masukkan tebakan Anda:  80\n"
     ]
    },
    {
     "name": "stdout",
     "output_type": "stream",
     "text": [
      "Jawaban berada di bawah angka 80.\n",
      "\n",
      "Indikator: 51-79\n"
     ]
    },
    {
     "name": "stdin",
     "output_type": "stream",
     "text": [
      "Percobaan 3: Masukkan tebakan Anda:  60\n"
     ]
    },
    {
     "name": "stdout",
     "output_type": "stream",
     "text": [
      "Jawaban berada di atas angka 60.\n",
      "\n",
      "Indikator: 61-79\n"
     ]
    },
    {
     "name": "stdin",
     "output_type": "stream",
     "text": [
      "Percobaan 4: Masukkan tebakan Anda:  70\n"
     ]
    },
    {
     "name": "stdout",
     "output_type": "stream",
     "text": [
      "Jawaban berada di atas angka 70.\n",
      "\n",
      "Indikator: 71-79\n"
     ]
    },
    {
     "name": "stdin",
     "output_type": "stream",
     "text": [
      "Percobaan 5: Masukkan tebakan Anda:  73\n"
     ]
    },
    {
     "name": "stdout",
     "output_type": "stream",
     "text": [
      "Jawaban berada di bawah angka 73.\n",
      "\n",
      "Maaf, Anda kehabisan percobaan. Angka yang benar adalah 71.\n",
      "Terima kasih sudah bermain!\n"
     ]
    },
    {
     "name": "stdin",
     "output_type": "stream",
     "text": [
      "\n",
      "Ingin bermain ulang? (ya/tidak):  ya\n"
     ]
    },
    {
     "name": "stdout",
     "output_type": "stream",
     "text": [
      "Selamat datang di permainan tebak angka!\n",
      "Komputer telah memilih angka antara 1 hingga 100.\n",
      "Anda memiliki 5 kali percobaan untuk menebak angka tersebut.\n",
      "\n",
      "Indikator: 1-100\n"
     ]
    },
    {
     "name": "stdin",
     "output_type": "stream",
     "text": [
      "Percobaan 1: Masukkan tebakan Anda:  70\n"
     ]
    },
    {
     "name": "stdout",
     "output_type": "stream",
     "text": [
      "Jawaban berada di atas angka 70.\n",
      "\n",
      "Indikator: 71-100\n"
     ]
    },
    {
     "name": "stdin",
     "output_type": "stream",
     "text": [
      "Percobaan 2: Masukkan tebakan Anda:  80\n"
     ]
    },
    {
     "name": "stdout",
     "output_type": "stream",
     "text": [
      "Selamat! Anda berhasil menebak angka 80 dengan benar!\n",
      "Terima kasih sudah bermain!\n"
     ]
    },
    {
     "name": "stdin",
     "output_type": "stream",
     "text": [
      "\n",
      "Ingin bermain ulang? (ya/tidak):  tidak\n"
     ]
    },
    {
     "name": "stdout",
     "output_type": "stream",
     "text": [
      "Terima kasih! Sampai jumpa lagi.\n"
     ]
    }
   ],
   "source": [
    "#Soal 5\n",
    "\n",
    "import random\n",
    "\n",
    "def guess_number_game():\n",
    "    secret_number = random.randint(1, 100) \n",
    "    max_attempts = 5 \n",
    "    attempts = 0\n",
    "    lower_bound = 1\n",
    "    upper_bound = 100\n",
    "\n",
    "    print(\"Selamat datang di permainan tebak angka!\")\n",
    "    print(f\"Komputer telah memilih angka antara {lower_bound} hingga {upper_bound}.\")\n",
    "    print(f\"Anda memiliki {max_attempts} kali percobaan untuk menebak angka tersebut.\")\n",
    "\n",
    "    while attempts < max_attempts:\n",
    "        print(f\"\\nIndikator: {lower_bound}-{upper_bound}\")\n",
    "        guess = int(input(f\"Percobaan {attempts + 1}: Masukkan tebakan Anda: \"))\n",
    "\n",
    "        if guess < secret_number:\n",
    "            print(f\"Jawaban berada di atas angka {guess}.\")\n",
    "            lower_bound = guess + 1  \n",
    "        elif guess > secret_number:\n",
    "            print(f\"Jawaban berada di bawah angka {guess}.\")\n",
    "            upper_bound = guess - 1  \n",
    "        else:\n",
    "            print(f\"Selamat! Anda berhasil menebak angka {secret_number} dengan benar!\")\n",
    "            break\n",
    "\n",
    "        attempts += 1\n",
    "\n",
    "    if attempts == max_attempts and guess != secret_number:\n",
    "        print(f\"\\nMaaf, Anda kehabisan percobaan. Angka yang benar adalah {secret_number}.\")\n",
    "\n",
    "    print(\"Terima kasih sudah bermain!\")\n",
    "\n",
    "def main():\n",
    "    while True:\n",
    "        guess_number_game()  # Run the game\n",
    "        choice = input(\"\\nIngin bermain ulang? (ya/tidak): \").lower()\n",
    "        if choice != 'ya':\n",
    "            print(\"Terima kasih! Sampai jumpa lagi.\")\n",
    "            break\n",
    "            \n",
    "main()"
   ]
  },
  {
   "cell_type": "code",
   "execution_count": 19,
   "id": "cda38ae7-0e82-48d6-a598-33cb6cf5abd9",
   "metadata": {},
   "outputs": [
    {
     "name": "stdout",
     "output_type": "stream",
     "text": [
      "[1, 1, 2, 6, 24]\n"
     ]
    }
   ],
   "source": [
    "#Soal 6\n",
    "\n",
    "def factorial(n):\n",
    "    if n == 0 or n == 1:\n",
    "        return 1\n",
    "    else:\n",
    "        return n*factorial(n-1)\n",
    "\n",
    "def fac_order(n):\n",
    "    if n <= 0:\n",
    "        return []\n",
    "\n",
    "    result = []\n",
    "    for i in range(n + 1):\n",
    "        result.append(factorial(i))\n",
    "\n",
    "    return result\n",
    "\n",
    "n = 4\n",
    "output = fac_order(n)\n",
    "print(output)"
   ]
  },
  {
   "cell_type": "code",
   "execution_count": 18,
   "id": "2c895179-f556-4e56-bdee-b708e8a1634e",
   "metadata": {},
   "outputs": [
    {
     "name": "stdin",
     "output_type": "stream",
     "text": [
      "Masukkan jumlah uang yang ingin dicapai:  30\n",
      "Masukkan koin yang tersedia, pisahkan dengan spasi:  1 2 5 10 20\n"
     ]
    },
    {
     "name": "stdout",
     "output_type": "stream",
     "text": [
      "Jumlah minimum koin yang diperlukan: 2\n",
      "Koin yang digunakan: [20, 10]\n"
     ]
    }
   ],
   "source": [
    "#Soal 7\n",
    "\n",
    "def min_coins(coins, amount):\n",
    "    dynamic_p = [float('inf')] * (amount + 1)\n",
    "    dynamic_p[0] = 0\n",
    "    coin_used = [-1] * (amount + 1)  # Array untuk menyimpan koin yang digunakan\n",
    "\n",
    "    for coin in coins:\n",
    "        for x in range(coin, amount + 1):\n",
    "            if dynamic_p[x - coin] + 1 < dynamic_p[x]:\n",
    "                dynamic_p[x] = dynamic_p[x - coin] + 1\n",
    "                coin_used[x] = coin  # Simpan koin yang digunakan\n",
    "\n",
    "    # Jika tidak ada solusi, kembalikan -1\n",
    "    if dynamic_p[amount] == float('inf'):\n",
    "        return -1, []\n",
    "\n",
    "    # Mengembalikan jumlah minimum koin dan rincian koin\n",
    "    count = dynamic_p[amount]\n",
    "    combination = []\n",
    "    while amount > 0:\n",
    "        combination.append(coin_used[amount])\n",
    "        amount -= coin_used[amount]\n",
    "\n",
    "    return count, combination\n",
    "\n",
    "def main():\n",
    "    amount = int(input(\"Masukkan jumlah uang yang ingin dicapai: \"))\n",
    "    coins = list(map(int, input(\"Masukkan koin yang tersedia, pisahkan dengan spasi: \").split()))\n",
    "\n",
    "    result, combination = min_coins(coins, amount)\n",
    "\n",
    "    if result != -1:\n",
    "        print(f\"Jumlah minimum koin yang diperlukan: {result}\")\n",
    "        print(\"Koin yang digunakan:\", combination)\n",
    "    else:\n",
    "        print(\"Tidak ada koin yang memenuhi jumlah tersebut.\")\n",
    "\n",
    "if __name__ == \"__main__\":\n",
    "    main()"
   ]
  },
  {
   "cell_type": "code",
   "execution_count": 24,
   "id": "5b7354cf-5c07-4563-bb80-9fe742b99eaf",
   "metadata": {},
   "outputs": [
    {
     "name": "stdin",
     "output_type": "stream",
     "text": [
      "Tuliskan kalimat atau kata:  saya suka python\n"
     ]
    },
    {
     "name": "stdout",
     "output_type": "stream",
     "text": [
      "Output:  ['ayas', 'akus', 'nohtyp']\n"
     ]
    }
   ],
   "source": [
    "#Soal 8\n",
    "\n",
    "def reverse_string(inp):\n",
    "    x = inp.split()\n",
    "    reversed = [y[::-1] for y in x]\n",
    "    return reversed\n",
    "\n",
    "def main():\n",
    "    user_inp = input(\"Tuliskan kalimat atau kata: \")\n",
    "    result = reverse_string(user_inp)\n",
    "\n",
    "    print(\"Output: \", result)\n",
    "\n",
    "if __name__==\"__main__\":\n",
    "    main()"
   ]
  },
  {
   "cell_type": "code",
   "execution_count": 25,
   "id": "b14ac612-a7ae-4455-bec2-aaf787d6e4b9",
   "metadata": {},
   "outputs": [
    {
     "name": "stdout",
     "output_type": "stream",
     "text": [
      "Judul: 'Belajar Python di Data Science'\n",
      "Penulis: Rizal Wahyu Pratama\n",
      "Tahun Terbit: 2021\n",
      "Tebal Halaman: 300 halaman\n",
      "Cetakan ke: 2\n",
      "Diterbitkan Oleh: Gramedia\n",
      "Usia Buku: 3 tahun\n",
      "\n",
      "------------------------------\n",
      "Judul: 'Data Science untuk Pemula'\n",
      "Penulis: Khulika Malkan\n",
      "Tahun Terbit: 2023\n",
      "Tebal Halaman: 250 halaman\n",
      "Cetakan ke: 1\n",
      "Diterbitkan Oleh: Elex Media\n",
      "Usia Buku: 1 tahun\n",
      "\n",
      "------------------------------\n",
      "Judul: 'Kecerdasan Buatan untuk Pengolahan Data'\n",
      "Penulis: Mikhael Setia Budi\n",
      "Tahun Terbit: 2019\n",
      "Tebal Halaman: 400 halaman\n",
      "Cetakan ke: 3\n",
      "Diterbitkan Oleh: Mitra Widya\n",
      "Usia Buku: 5 tahun\n",
      "\n",
      "------------------------------\n"
     ]
    }
   ],
   "source": [
    "#Soal 9\n",
    "\n",
    "class Book:\n",
    "    def __init__(self, title, author, year_published, page_count, edition, publisher):\n",
    "        self.title = title\n",
    "        self.author = author\n",
    "        self.year_published = year_published\n",
    "        self.page_count = page_count\n",
    "        self.edition = edition\n",
    "        self.publisher = publisher\n",
    "\n",
    "    def display_info(self):\n",
    "        return (f\"Judul: '{self.title}'\\n\"\n",
    "                f\"Penulis: {self.author}\\n\"\n",
    "                f\"Tahun Terbit: {self.year_published}\\n\"\n",
    "                f\"Tebal Halaman: {self.page_count} halaman\\n\"\n",
    "                f\"Cetakan ke: {self.edition}\\n\"\n",
    "                f\"Diterbitkan Oleh: {self.publisher}\")\n",
    "\n",
    "    def calculate_age(self, current_year):\n",
    "        return current_year - self.year_published\n",
    "\n",
    "    def full_info(self, current_year):\n",
    "        age = self.calculate_age(current_year)\n",
    "        return f\"{self.display_info()}\\nUsia Buku: {age} tahun\\n\"\n",
    "\n",
    "def main():\n",
    "    # Current year\n",
    "    current_year = 2024\n",
    "    \n",
    "    # Creating objects from the Book class\n",
    "    book1 = Book(\"Belajar Python di Data Science\", \"Rizal Wahyu Pratama\", 2021, 300, 2, \"Gramedia\")\n",
    "    book2 = Book(\"Data Science untuk Pemula\", \"Khulika Malkan\", 2023, 250, 1, \"Elex Media\")\n",
    "    book3 = Book(\"Kecerdasan Buatan untuk Pengolahan Data\", \"Mikhael Setia Budi\", 2019, 400, 3, \"Mitra Widya\")\n",
    "\n",
    "    # Displaying information and age of each book\n",
    "    book_list = [book1, book2, book3]\n",
    "    \n",
    "    for book in book_list:\n",
    "        print(book.full_info(current_year))\n",
    "        print(\"-\" * 30)  # Separator for neater output\n",
    "\n",
    "if __name__ == \"__main__\":\n",
    "    main()\n"
   ]
  },
  {
   "cell_type": "code",
   "execution_count": 30,
   "id": "8c70a6fd-6188-4263-8801-9af1104a1380",
   "metadata": {},
   "outputs": [
    {
     "name": "stdin",
     "output_type": "stream",
     "text": [
      "Masukkan batas atas untuk daftar angka genap:  61\n",
      "Masukkan angka yang ingin dicari:  51\n"
     ]
    },
    {
     "name": "stdout",
     "output_type": "stream",
     "text": [
      "\n",
      "Nilai yang dicari adalah angka ganjil, pencarian tidak dapat dilakukan.\n"
     ]
    },
    {
     "name": "stdin",
     "output_type": "stream",
     "text": [
      "\n",
      "Apakah Anda ingin mengulang program? (ya/tidak):  ya\n",
      "Masukkan batas atas untuk daftar angka genap:  7000\n",
      "Masukkan angka yang ingin dicari:  700\n"
     ]
    },
    {
     "name": "stdout",
     "output_type": "stream",
     "text": [
      "\n",
      "Angka 700 ditemukan pada indeks 350.\n"
     ]
    },
    {
     "name": "stdin",
     "output_type": "stream",
     "text": [
      "\n",
      "Apakah Anda ingin mengulang program? (ya/tidak):  tidak\n"
     ]
    },
    {
     "name": "stdout",
     "output_type": "stream",
     "text": [
      "\n",
      "Terima kasih telah menggunakan program ini!\n"
     ]
    }
   ],
   "source": [
    "#Soal 10\n",
    "\n",
    "def binary_search(even_numbers, target):\n",
    "    left, right = 0, len(even_numbers) - 1\n",
    "    \n",
    "    while left <= right:\n",
    "        mid = (left + right) // 2\n",
    "        \n",
    "        if even_numbers[mid] == target:\n",
    "            return mid  # Mengembalikan indeks jika ditemukan\n",
    "        elif even_numbers[mid] < target:\n",
    "            left = mid + 1\n",
    "        else:\n",
    "            right = mid - 1\n",
    "            \n",
    "    return -1  # Mengembalikan -1 jika tidak ditemukan\n",
    "\n",
    "def generate_even_numbers(limit):\n",
    "    # Menghasilkan daftar angka genap hingga limit yang ditentukan\n",
    "    return [i for i in range(0, limit + 1, 2)]\n",
    "\n",
    "def main():\n",
    "    while True:  # Loop utama program\n",
    "        # Menerima batas dari pengguna\n",
    "        limit = int(input(\"Masukkan batas atas untuk daftar angka genap: \"))\n",
    "        \n",
    "        # Menghasilkan daftar angka genap\n",
    "        even_numbers = generate_even_numbers(limit)\n",
    "        \n",
    "        # Menerima input dari pengguna\n",
    "        target = int(input(\"Masukkan angka yang ingin dicari: \"))\n",
    "        \n",
    "        # Cek apakah angka yang dicari genap atau ganjil\n",
    "        if target % 2 != 0:\n",
    "            print(\"\\nNilai yang dicari adalah angka ganjil, pencarian tidak dapat dilakukan.\")\n",
    "        else:\n",
    "            # Melakukan pencarian biner\n",
    "            result = binary_search(even_numbers, target)\n",
    "            \n",
    "            if result != -1:\n",
    "                print(f\"\\nAngka {target} ditemukan pada indeks {result}.\")\n",
    "            else:\n",
    "                print(f\"\\nAngka {target} tidak ditemukan dalam daftar.\")\n",
    "\n",
    "        # Menanyakan kepada pengguna apakah ingin mengulang program\n",
    "        ulang = input(\"\\nApakah Anda ingin mengulang program? (ya/tidak): \").strip().lower()\n",
    "        if ulang != 'ya':\n",
    "            break\n",
    "\n",
    "    print(\"\\nTerima kasih telah menggunakan program ini!\")\n",
    "\n",
    "if __name__ == \"__main__\":\n",
    "    main()\n"
   ]
  }
 ],
 "metadata": {
  "kernelspec": {
   "display_name": "Python 3 (ipykernel)",
   "language": "python",
   "name": "python3"
  },
  "language_info": {
   "codemirror_mode": {
    "name": "ipython",
    "version": 3
   },
   "file_extension": ".py",
   "mimetype": "text/x-python",
   "name": "python",
   "nbconvert_exporter": "python",
   "pygments_lexer": "ipython3",
   "version": "3.12.4"
  }
 },
 "nbformat": 4,
 "nbformat_minor": 5
}
